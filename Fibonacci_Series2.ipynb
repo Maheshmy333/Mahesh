{
 "cells": [
  {
   "cell_type": "markdown",
   "id": "75b75a43",
   "metadata": {},
   "source": [
    "### Fibonacci series of Number given by user"
   ]
  },
  {
   "cell_type": "code",
   "execution_count": 2,
   "id": "bdb76aee",
   "metadata": {},
   "outputs": [
    {
     "name": "stdout",
     "output_type": "stream",
     "text": [
      "Enter a Number For Fibinacci Series: 1\n",
      "0 1\n"
     ]
    }
   ],
   "source": [
    "num = int(input(\"Enter a Number For Fibinacci Series: \"))\n",
    "num1 = 0\n",
    "num2 = 1\n",
    "sum = 0\n",
    "if num <= 0:\n",
    "    print(\"Please Enter Number Greater than zero\")      \n",
    "else:\n",
    "    for num in range(0,num):\n",
    "        print(sum, end=\" \")\n",
    "        \n",
    "        num1 = num2\n",
    "        num2 = sum\n",
    "        sum = num1 + num2\n",
    "print(sum)"
   ]
  },
  {
   "cell_type": "code",
   "execution_count": null,
   "id": "9f22d6b0",
   "metadata": {},
   "outputs": [],
   "source": []
  }
 ],
 "metadata": {
  "kernelspec": {
   "display_name": "Python 3 (ipykernel)",
   "language": "python",
   "name": "python3"
  },
  "language_info": {
   "codemirror_mode": {
    "name": "ipython",
    "version": 3
   },
   "file_extension": ".py",
   "mimetype": "text/x-python",
   "name": "python",
   "nbconvert_exporter": "python",
   "pygments_lexer": "ipython3",
   "version": "3.8.10"
  }
 },
 "nbformat": 4,
 "nbformat_minor": 5
}
