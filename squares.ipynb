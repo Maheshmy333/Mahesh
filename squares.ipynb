{
 "cells": [
  {
   "cell_type": "markdown",
   "id": "ff1ef1c2",
   "metadata": {},
   "source": [
    "### Write a Python program to square the elements of a list using map() function. this is required output"
   ]
  },
  {
   "cell_type": "code",
   "execution_count": 1,
   "id": "42065725",
   "metadata": {},
   "outputs": [
    {
     "data": {
      "text/plain": [
       "[16, 25, 4, 81]"
      ]
     },
     "execution_count": 1,
     "metadata": {},
     "output_type": "execute_result"
    }
   ],
   "source": [
    "def square(num):\n",
    "    return num * num\n",
    "list(map(square,[4,5,2,9]))"
   ]
  },
  {
   "cell_type": "markdown",
   "id": "ffde3919",
   "metadata": {},
   "source": [
    "## Find the Squares from the given List this is optional "
   ]
  },
  {
   "cell_type": "code",
   "execution_count": 2,
   "id": "6a6af6f8",
   "metadata": {},
   "outputs": [
    {
     "data": {
      "text/plain": [
       "[4, 9]"
      ]
     },
     "execution_count": 2,
     "metadata": {},
     "output_type": "execute_result"
    }
   ],
   "source": [
    "import math\n",
    "def perfect_square(num):\n",
    "    root = math.sqrt(num)\n",
    "    root_int = int(root)\n",
    "    return root_int * root_int == num\n",
    "\n",
    "list(filter(perfect_square,[4,5,2,9]))"
   ]
  }
 ],
 "metadata": {
  "kernelspec": {
   "display_name": "Python 3 (ipykernel)",
   "language": "python",
   "name": "python3"
  },
  "language_info": {
   "codemirror_mode": {
    "name": "ipython",
    "version": 3
   },
   "file_extension": ".py",
   "mimetype": "text/x-python",
   "name": "python",
   "nbconvert_exporter": "python",
   "pygments_lexer": "ipython3",
   "version": "3.8.10"
  }
 },
 "nbformat": 4,
 "nbformat_minor": 5
}
