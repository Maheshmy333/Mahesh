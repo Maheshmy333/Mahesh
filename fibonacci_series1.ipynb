{
 "cells": [
  {
   "cell_type": "markdown",
   "id": "d9e2b9e0",
   "metadata": {},
   "source": [
    "### Q.Write a Python program to get the Fibonacci series between 0 to 50"
   ]
  },
  {
   "cell_type": "code",
   "execution_count": 13,
   "id": "26f19daf",
   "metadata": {},
   "outputs": [
    {
     "name": "stdout",
     "output_type": "stream",
     "text": [
      "0,1,1,2,3,5,8,13,21,34,55,89,144,233,377,610,987,1597,2584,4181,6765,10946,17711,28657,46368,75025,121393,196418,317811,514229,832040,1346269,2178309,3524578,5702887,9227465,14930352,24157817,39088169,63245986,102334155,165580141,267914296,433494437,701408733,1134903170,1836311903,2971215073,4807526976,7778742049,12586269025,20365011074\n"
     ]
    }
   ],
   "source": [
    "num = 51\n",
    "num1 = 0\n",
    "num2 = 1\n",
    "sum = 0\n",
    "if num <= 0:\n",
    "    print(\"fibinacci \")\n",
    "else:\n",
    "    for x in range(0,51):\n",
    "        print(sum,end=\",\")\n",
    "        num1 = num2\n",
    "        num2 = sum\n",
    "        sum = num1 + num2\n",
    "print(sum)\n",
    "        \n",
    "        "
   ]
  }
 ],
 "metadata": {
  "kernelspec": {
   "display_name": "Python 3 (ipykernel)",
   "language": "python",
   "name": "python3"
  },
  "language_info": {
   "codemirror_mode": {
    "name": "ipython",
    "version": 3
   },
   "file_extension": ".py",
   "mimetype": "text/x-python",
   "name": "python",
   "nbconvert_exporter": "python",
   "pygments_lexer": "ipython3",
   "version": "3.8.10"
  }
 },
 "nbformat": 4,
 "nbformat_minor": 5
}
