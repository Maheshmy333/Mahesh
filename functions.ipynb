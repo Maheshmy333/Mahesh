{
 "cells": [
  {
   "cell_type": "markdown",
   "id": "e4be7ca6",
   "metadata": {},
   "source": [
    "### Game of functions"
   ]
  },
  {
   "cell_type": "code",
   "execution_count": 1,
   "id": "392db389",
   "metadata": {},
   "outputs": [],
   "source": [
    "def SUM(l1):\n",
    "    sum = 0\n",
    "    for i in l1:\n",
    "        sum = sum + i\n",
    "    print(sum)"
   ]
  },
  {
   "cell_type": "code",
   "execution_count": 3,
   "id": "4a3362bf",
   "metadata": {},
   "outputs": [
    {
     "name": "stdout",
     "output_type": "stream",
     "text": [
      "20\n"
     ]
    }
   ],
   "source": [
    "SUM([8,2,3,0,7])"
   ]
  }
 ],
 "metadata": {
  "kernelspec": {
   "display_name": "Python 3 (ipykernel)",
   "language": "python",
   "name": "python3"
  },
  "language_info": {
   "codemirror_mode": {
    "name": "ipython",
    "version": 3
   },
   "file_extension": ".py",
   "mimetype": "text/x-python",
   "name": "python",
   "nbconvert_exporter": "python",
   "pygments_lexer": "ipython3",
   "version": "3.8.10"
  }
 },
 "nbformat": 4,
 "nbformat_minor": 5
}
