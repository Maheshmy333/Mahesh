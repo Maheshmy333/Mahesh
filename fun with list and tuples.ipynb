{
 "cells": [
  {
   "cell_type": "markdown",
   "id": "96b488df",
   "metadata": {},
   "source": [
    "### Assignment-2:\n",
    "#### Fun with Lists and Tuples"
   ]
  },
  {
   "cell_type": "code",
   "execution_count": 38,
   "id": "d1719c37",
   "metadata": {},
   "outputs": [
    {
     "name": "stdout",
     "output_type": "stream",
     "text": [
      "Any Power of zero is zero\n",
      "[(1, 1), (2, 4), (3, 9), (4, 16), (5, 25), (6, 36), (7, 49), (-5, 25), (10, 100)]\n"
     ]
    }
   ],
   "source": [
    "l = [1,2,3,4,5,6,7,-5,0,10]\n",
    "l1 = [ ]\n",
    "for num in l:\n",
    "    if num > 0 or num < 0:\n",
    "        x = num**2\n",
    "        i = tuple((num,x))\n",
    "        l1.append(i)\n",
    "\n",
    "    else:\n",
    "        print(\"Any Power of zero is zero\")\n",
    "        \n",
    "print(l1)"
   ]
  }
 ],
 "metadata": {
  "kernelspec": {
   "display_name": "Python 3 (ipykernel)",
   "language": "python",
   "name": "python3"
  },
  "language_info": {
   "codemirror_mode": {
    "name": "ipython",
    "version": 3
   },
   "file_extension": ".py",
   "mimetype": "text/x-python",
   "name": "python",
   "nbconvert_exporter": "python",
   "pygments_lexer": "ipython3",
   "version": "3.8.10"
  }
 },
 "nbformat": 4,
 "nbformat_minor": 5
}
