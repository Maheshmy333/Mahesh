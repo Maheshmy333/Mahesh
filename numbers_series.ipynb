{
 "cells": [
  {
   "cell_type": "markdown",
   "id": "61f46a0a",
   "metadata": {},
   "source": [
    "### Write a Python program to count the number of even and odd numbers from a series of numbers."
   ]
  },
  {
   "cell_type": "code",
   "execution_count": 5,
   "id": "1fc22cd3",
   "metadata": {},
   "outputs": [
    {
     "name": "stdout",
     "output_type": "stream",
     "text": [
      "Enjoy The Number of days : 8\n",
      "Stay Home Stay Safe for number of days : 6\n"
     ]
    }
   ],
   "source": [
    "num = (2,5,6,8,7,4,9,10,12,13,17,18,15,16) \n",
    "even_count = 0\n",
    "odd_count  = 0\n",
    "for day in num:\n",
    "    if day%2 == 0:\n",
    "        even_count += 1\n",
    "        \n",
    "    \n",
    "    else:\n",
    "        odd_count += 1\n",
    "        \n",
    "print(\"Enjoy The Number of days :\",even_count)\n",
    "print(\"Stay Home Stay Safe for number of days :\",odd_count)\n",
    "        "
   ]
  }
 ],
 "metadata": {
  "kernelspec": {
   "display_name": "Python 3 (ipykernel)",
   "language": "python",
   "name": "python3"
  },
  "language_info": {
   "codemirror_mode": {
    "name": "ipython",
    "version": 3
   },
   "file_extension": ".py",
   "mimetype": "text/x-python",
   "name": "python",
   "nbconvert_exporter": "python",
   "pygments_lexer": "ipython3",
   "version": "3.8.10"
  }
 },
 "nbformat": 4,
 "nbformat_minor": 5
}
