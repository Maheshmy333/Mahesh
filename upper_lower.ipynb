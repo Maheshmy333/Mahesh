{
 "cells": [
  {
   "cell_type": "markdown",
   "id": "2b76f1c5",
   "metadata": {},
   "source": [
    "#### Write a Python function that accepts a string and calculate the number of upper case letters and lower case letters."
   ]
  },
  {
   "cell_type": "code",
   "execution_count": 2,
   "id": "092e5d91",
   "metadata": {},
   "outputs": [],
   "source": [
    "def upperlower(string):\n",
    "    count1 = 0\n",
    "    count2 = 0\n",
    "    for i in string:\n",
    "        if i.isupper():\n",
    "            count1 += 1\n",
    "\n",
    "        elif i.isspace():\n",
    "            continue\n",
    "        \n",
    "        else:\n",
    "            count2 += 1\n",
    "\n",
    "    print(\"Uppercase Letters =\",count1)\n",
    "    print(\"Lowercase Letters =\",count2)\n"
   ]
  },
  {
   "cell_type": "code",
   "execution_count": 3,
   "id": "11fb9a37",
   "metadata": {},
   "outputs": [
    {
     "name": "stdout",
     "output_type": "stream",
     "text": [
      "Uppercase Letters = 3\n",
      "Lowercase Letters = 12\n"
     ]
    }
   ],
   "source": [
    "upperlower('The quick Brow Fox')"
   ]
  }
 ],
 "metadata": {
  "kernelspec": {
   "display_name": "Python 3 (ipykernel)",
   "language": "python",
   "name": "python3"
  },
  "language_info": {
   "codemirror_mode": {
    "name": "ipython",
    "version": 3
   },
   "file_extension": ".py",
   "mimetype": "text/x-python",
   "name": "python",
   "nbconvert_exporter": "python",
   "pygments_lexer": "ipython3",
   "version": "3.10.2"
  }
 },
 "nbformat": 4,
 "nbformat_minor": 5
}
